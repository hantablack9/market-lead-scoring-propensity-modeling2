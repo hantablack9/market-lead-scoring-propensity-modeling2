{
 "cells": [
  {
   "cell_type": "markdown",
   "metadata": {},
   "source": [
    "## Demo of DuckDB"
   ]
  },
  {
   "cell_type": "markdown",
   "metadata": {},
   "source": [
    "### Demo Goals:\n",
    "##### - Avoid using pandas dataframes to load and query b/c won't work when data > memory.\n",
    "##### - Take advantage of DuckDB's super fast data loading.\n",
    "##### - Directly load external data into a DuckDB database, then query.\n",
    "##### - Using pandas for small query results is Ok."
   ]
  },
  {
   "cell_type": "markdown",
   "metadata": {},
   "source": [
    "<span style=\"color:LIGHTGREEN\">Import the DuckDB package</span>"
   ]
  },
  {
   "cell_type": "code",
   "execution_count": 3,
   "metadata": {},
   "outputs": [],
   "source": [
    "import duckdb"
   ]
  },
  {
   "cell_type": "markdown",
   "metadata": {},
   "source": [
    "<span style=\"color:LIGHTGREEN\">Very basic test...</span>"
   ]
  },
  {
   "cell_type": "code",
   "execution_count": 10,
   "metadata": {},
   "outputs": [
    {
     "name": "stdout",
     "output_type": "stream",
     "text": [
      "┌───────┐\n",
      "│   k   │\n",
      "│ int32 │\n",
      "├───────┤\n",
      "│    42 │\n",
      "└───────┘\n",
      "\n"
     ]
    }
   ],
   "source": [
    "duckdb.sql(\"SELECT 42 as k\").show()"
   ]
  },
  {
   "cell_type": "markdown",
   "metadata": {},
   "source": [
    "<span style=\"color:LIGHTBLUE\">Because we want to keep the data we import for future use, we will create a permanent database file for it.</span>"
   ]
  },
  {
   "cell_type": "markdown",
   "metadata": {},
   "source": [
    "<span style=\"color:LIGHTGREEN\">Create a database connection...</span>"
   ]
  },
  {
   "cell_type": "code",
   "execution_count": 5,
   "metadata": {},
   "outputs": [],
   "source": [
    "import duckdb\n",
    "\n",
    "conn = duckdb.connect('taxidbdemo.db')"
   ]
  },
  {
   "cell_type": "markdown",
   "metadata": {},
   "source": [
    "<span style=\"color:LIGHTGREEN\">Load data into a DuckDB database table.</span>"
   ]
  },
  {
   "cell_type": "code",
   "execution_count": 16,
   "metadata": {},
   "outputs": [
    {
     "data": {
      "text/plain": [
       "<duckdb.duckdb.DuckDBPyConnection at 0x2c63db3c7b0>"
      ]
     },
     "execution_count": 16,
     "metadata": {},
     "output_type": "execute_result"
    }
   ],
   "source": [
    "conn.execute('''CREATE OR REPLACE TABLE taxi_data AS \n",
    "                SELECT * FROM read_csv('./src/data/dataset.csv');''') #yellow_tripdata_2025-01.parquet"
   ]
  },
  {
   "cell_type": "markdown",
   "metadata": {},
   "source": [
    "We can do some things directly on our new table."
   ]
  },
  {
   "cell_type": "code",
   "execution_count": 17,
   "metadata": {},
   "outputs": [
    {
     "name": "stdout",
     "output_type": "stream",
     "text": [
      "┌────────────────────┬───────────┬───────────┬─────────────────────────┬────────────────┬────────┬──────────┬──────────────────────────┬───────────────────────────┬─────────────┬───────────────────────┬─────────────────┬───────────────┬────────────────┬────────────────┬─────────────────┬───────────────┬───────────┬───────────┬────────────┬─────────────┬─────────────┬─────────────────────┬────────────────┬────────────┬──────────────────┬────────────────┬───────────────────────┬─────────────────────┬────────────────────┬───────────────────┬─────────┬──────────────────┬────────────┬────────────┬────────────┬────────────┬────────────┬───────┬───────┬────────────┬──────────────┬───────────────┬─────────────┬─────────────┬───────────┬─────────────┬──────────┬──────────┬──────────────────────────────┬─────────────────────────────┬───────────────────────┬─────────────────────┬───────────────────┬──────────────┬───────┬─────────────────────────┬─────────────┬────────────────────────┬──────────────────────────┬───────────────────────────┬──────────────────┬────────────────────────┬────────────────────────┬─────────────────────────┬─────────────────┬──────────────────────┬──────────────────────┐\n",
      "│   opportunity_id   │ stagename │ subsource │ unanswered_call_counter │ unserviced_age │ ageing │  source  │ Opportunity_created_date │ time_taken_for_allocation │ no_of_calls │ calldurationinseconds │ Funnel_category │ Days_to_apply │ Days_to_engage │ Days_to_enroll │ Days_to_payment │ Days_to_waste │   city    │ City_type │  workexp   │ workexp min │ workexp max │ laststagechangedate │ is_serviced__c │ sales_end_ │ sales_start_date │ Program_number │ Program Code -Renewed │ total_program_fee.1 │      Category      │ Business_vertical │ Budget  │ lastactivitydate │ Institute  │ Call1_diff │ Call2_diff │ Call3_diff │ Call4_diff │ Year  │ Month │ Month Name │ Week of Year │ Week of Month │ Day of Year │ Day of Week │ Day Name  │     Age     │ Age(min) │ Age(max) │ Competitor program_fee(high) │ Competitor program_fee(low) │ program_start_date__c │ program_end_date__c │ sales_Working_day │ Time_of Lead │ Hour  │ IscreatedinWorking_hour │ workex_reqd │ is_session_Working_day │ Session_Start_day_inweek │ Weekly_sessionsdays_count │ sessions_in week │ Workes-reqd/min_workex │ workex-reqd/workexpmax │ workex- minworkexp/reqd │ workex-max/reqd │ workex_reqd/Age(max) │ workex_reqd/Age(min) │\n",
      "│      varchar       │  varchar  │  varchar  │          int64          │     int64      │ int64  │ varchar  │         varchar          │           int64           │    int64    │        varchar        │     varchar     │    varchar    │    varchar     │    varchar     │     varchar     │    double     │  varchar  │  varchar  │  varchar   │    int64    │    int64    │       varchar       │    boolean     │  varchar   │     varchar      │    varchar     │        varchar        │        int64        │      varchar       │      varchar      │  int64  │     varchar      │  varchar   │   int64    │   int64    │   int64    │   int64    │ int64 │ int64 │  varchar   │    int64     │     int64     │    int64    │    int64    │  varchar  │   varchar   │  int64   │  int64   │            double            │           double            │        varchar        │       varchar       │       int64       │     time     │ int64 │          int64          │    int64    │         int64          │         varchar          │           int64           │      int64       │        varchar         │         double         │         varchar         │     varchar     │        double        │        double        │\n",
      "├────────────────────┼───────────┼───────────┼─────────────────────────┼────────────────┼────────┼──────────┼──────────────────────────┼───────────────────────────┼─────────────┼───────────────────────┼─────────────────┼───────────────┼────────────────┼────────────────┼─────────────────┼───────────────┼───────────┼───────────┼────────────┼─────────────┼─────────────┼─────────────────────┼────────────────┼────────────┼──────────────────┼────────────────┼───────────────────────┼─────────────────────┼────────────────────┼───────────────────┼─────────┼──────────────────┼────────────┼────────────┼────────────┼────────────┼────────────┼───────┼───────┼────────────┼──────────────┼───────────────┼─────────────┼─────────────┼───────────┼─────────────┼──────────┼──────────┼──────────────────────────────┼─────────────────────────────┼───────────────────────┼─────────────────────┼───────────────────┼──────────────┼───────┼─────────────────────────┼─────────────┼────────────────────────┼──────────────────────────┼───────────────────────────┼──────────────────┼────────────────────────┼────────────────────────┼─────────────────────────┼─────────────────┼──────────────────────┼──────────────────────┤\n",
      "│ 0060o00001WJbrYAAT │ Cold      │ facebook  │                       0 │              0 │    252 │ facebook │ 02-06-2021 01:23         │                         0 │           2 │ NULL                  │ Wasted_leads    │ NULL          │ NULL           │ NULL           │ NULL            │   0.341712963 │ Delhi NCR │ Tier-1    │ 5-10 years │           5 │          10 │ 02-06-2021 09:35    │ true           │ 12-Jun-21  │ 23-Feb-21        │ P-00114        │ IIMI-CPDMS            │              203550 │ Digital Marketing  │ MDP               │ 1450000 │ 02-06-2021 00:00 │ IIM Indore │          0 │          0 │          0 │          0 │  2021 │     6 │ June       │           23 │             1 │         153 │           2 │ Wednesday │ 28-33 years │       28 │       33 │                     305325.0 │                    135700.0 │ 19-Jun-21             │ 30-May-22           │                 1 │ 01:23:52     │     1 │                       0 │           2 │                      0 │ Saturday                 │                         1 │                1 │ 0.4                    │                    0.2 │ 2.5                     │ 5               │          0.060606061 │          0.071428571 │\n",
      "│ 0060o00001WJcpKAAT │ Cold      │ facebook  │                       0 │              0 │    241 │ facebook │ 02-06-2021 05:47         │                         0 │           8 │ NULL                  │ Wasted_leads    │ NULL          │ NULL           │ NULL           │ NULL            │       11.2525 │ Delhi NCR │ Tier-1    │ 5-10 years │           5 │          10 │ 13-06-2021 11:50    │ true           │ 12-Jun-21  │ 12-Apr-21        │ P-00103        │ IITR-PGCAIDL          │              250000 │ Data Science- AIML │ Tech              │ 1433000 │ 13-06-2021 00:00 │ IIT Ropar  │          0 │          0 │          0 │          0 │  2021 │     6 │ June       │           23 │             1 │         153 │           2 │ Wednesday │ 28-33 years │       28 │       33 │                     375000.0 │                 166666.6667 │ 19-Jun-21             │ 26-Dec-21           │                 1 │ 05:47:06     │     5 │                       0 │           2 │                      0 │ Saturday                 │                         1 │                1 │ 0.4                    │                    0.2 │ 2.5                     │ 5               │          0.060606061 │          0.071428571 │\n",
      "│         ·          │  ·        │    ·      │                       · │              · │     ·  │    ·     │        ·                 │                         · │           · │  ·                    │      ·          │  ·            │  ·             │  ·             │  ·              │          ·    │  ·        │   ·       │     ·      │           · │           · │        ·            │  ·             │     ·      │     ·            │    ·           │      ·                │                 ·   │         ·          │  ·                │    ·    │        ·         │     ·      │          · │          · │          · │          · │    ·  │     · │  ·         │            · │             · │          ·  │           · │   ·       │      ·      │        · │        · │                         ·    │                      ·      │     ·                 │     ·               │                 · │    ·         │     · │                       · │           · │                      · │    ·                     │                         · │                · │  ·                     │                     ·  │  ·                      │ ·               │               ·      │               ·      │\n",
      "│         ·          │  ·        │    ·      │                       · │              · │     ·  │    ·     │        ·                 │                         · │           · │  ·                    │      ·          │  ·            │  ·             │  ·             │  ·              │          ·    │  ·        │   ·       │     ·      │           · │           · │        ·            │  ·             │     ·      │     ·            │    ·           │      ·                │                 ·   │         ·          │  ·                │    ·    │        ·         │     ·      │          · │          · │          · │          · │    ·  │     · │  ·         │            · │             · │          ·  │           · │   ·       │      ·      │        · │        · │                         ·    │                      ·      │     ·                 │     ·               │                 · │    ·         │     · │                       · │           · │                      · │    ·                     │                         · │                · │  ·                     │                     ·  │  ·                      │ ·               │               ·      │               ·      │\n",
      "│         ·          │  ·        │    ·      │                       · │              · │     ·  │    ·     │        ·                 │                         · │           · │  ·                    │      ·          │  ·            │  ·             │  ·             │  ·              │          ·    │  ·        │   ·       │     ·      │           · │           · │        ·            │  ·             │     ·      │     ·            │    ·           │      ·                │                 ·   │         ·          │  ·                │    ·    │        ·         │     ·      │          · │          · │          · │          · │    ·  │     · │  ·         │            · │             · │          ·  │           · │   ·       │      ·      │        · │        · │                         ·    │                      ·      │     ·                 │     ·               │                 · │    ·         │     · │                       · │           · │                      · │    ·                     │                         · │                · │  ·                     │                     ·  │  ·                      │ ·               │               ·      │               ·      │\n",
      "│ 0060o00001XH6cRAAT │ Cold      │ facebook  │                       0 │              0 │    240 │ facebook │ 14-06-2021 05:04         │                         0 │           2 │ NULL                  │ Wasted_leads    │ NULL          │ NULL           │ NULL           │ NULL            │   0.080613426 │ Pune      │ Tier-1    │ 5-10 years │           5 │          10 │ 14-06-2021 07:00    │ true           │ 17-Jul-21  │ 20-Apr-21        │ P-00121        │ IIM I - CPM           │              117410 │ Project Management │ MDP               │ 1755000 │ 14-06-2021 00:00 │ IIM Indore │          0 │          0 │          0 │          0 │  2021 │     6 │ June       │           25 │             3 │         165 │           0 │ Monday    │ 28-33 years │       28 │       33 │                     176115.0 │                 78273.33333 │ 07-Aug-21             │ 31-Jan-22           │                 1 │ 05:04:32     │     5 │                       0 │           2 │                      0 │ Saturday                 │                         1 │                1 │ 0.4                    │                    0.2 │ 2.5                     │ 5               │          0.060606061 │          0.071428571 │\n",
      "│ 0060o00001WJqJlAAL │ Cold      │ facebook  │                       0 │              0 │    249 │ facebook │ 05-06-2021 13:15         │                         0 │           2 │ NULL                  │ Wasted_leads    │ NULL          │ NULL           │ NULL           │ NULL            │   0.014201389 │ Pune      │ Tier-1    │ 5-10 years │           5 │          10 │ 05-06-2021 13:36    │ true           │ 17-Jul-21  │ 20-Apr-21        │ P-00121        │ IIM I - CPM           │              117410 │ Project Management │ MDP               │ 1755000 │ 05-06-2021 00:00 │ IIM Indore │          0 │          0 │          0 │          0 │  2021 │     6 │ June       │           23 │             1 │         156 │           5 │ Saturday  │ 28-33 years │       28 │       33 │                     176115.0 │                 78273.33333 │ 07-Aug-21             │ 31-Jan-22           │                 0 │ 13:15:50     │    13 │                       1 │           2 │                      0 │ Saturday                 │                         1 │                1 │ 0.4                    │                    0.2 │ 2.5                     │ 5               │          0.060606061 │          0.071428571 │\n",
      "├────────────────────┴───────────┴───────────┴─────────────────────────┴────────────────┴────────┴──────────┴──────────────────────────┴───────────────────────────┴─────────────┴───────────────────────┴─────────────────┴───────────────┴────────────────┴────────────────┴─────────────────┴───────────────┴───────────┴───────────┴────────────┴─────────────┴─────────────┴─────────────────────┴────────────────┴────────────┴──────────────────┴────────────────┴───────────────────────┴─────────────────────┴────────────────────┴───────────────────┴─────────┴──────────────────┴────────────┴────────────┴────────────┴────────────┴────────────┴───────┴───────┴────────────┴──────────────┴───────────────┴─────────────┴─────────────┴───────────┴─────────────┴──────────┴──────────┴──────────────────────────────┴─────────────────────────────┴───────────────────────┴─────────────────────┴───────────────────┴──────────────┴───────┴─────────────────────────┴─────────────┴────────────────────────┴──────────────────────────┴───────────────────────────┴──────────────────┴────────────────────────┴────────────────────────┴─────────────────────────┴─────────────────┴──────────────────────┴──────────────────────┤\n",
      "│ ? rows (>9999 rows, 4 shown)                                                                                                                                                                                                                                                                                                                                                                                                                                                                                                                                                                                                                                                                                                                                                                                                                                                                                                                                                                                                                                                                                                                                                                                                         68 columns │\n",
      "└─────────────────────────────────────────────────────────────────────────────────────────────────────────────────────────────────────────────────────────────────────────────────────────────────────────────────────────────────────────────────────────────────────────────────────────────────────────────────────────────────────────────────────────────────────────────────────────────────────────────────────────────────────────────────────────────────────────────────────────────────────────────────────────────────────────────────────────────────────────────────────────────────────────────────────────────────────────────────────────────────────────────────────────────────────────────────────────────────────────────────────────────────────────────────────────────────────────────────────────────────────────────────────────────────────────────────────────────────────────────────────────────────────────────────────────────────────────────────────────────────────────────────────────────────────────────────────────────────────────────────────────────────────────────────────────────────────────────────────────────────────────────────────────────────────────────────────────────────────────────────┘\n",
      "\n"
     ]
    }
   ],
   "source": [
    "conn.table('taxi_data').show(max_rows = 4)"
   ]
  },
  {
   "cell_type": "markdown",
   "metadata": {},
   "source": [
    "We can run any sql query we want with our new table."
   ]
  },
  {
   "cell_type": "markdown",
   "metadata": {},
   "source": [
    "fetch_df() returns a pandas dataframe but make sure it can fit into memory."
   ]
  },
  {
   "cell_type": "code",
   "execution_count": 18,
   "metadata": {},
   "outputs": [
    {
     "data": {
      "text/html": [
       "<div>\n",
       "<style scoped>\n",
       "    .dataframe tbody tr th:only-of-type {\n",
       "        vertical-align: middle;\n",
       "    }\n",
       "\n",
       "    .dataframe tbody tr th {\n",
       "        vertical-align: top;\n",
       "    }\n",
       "\n",
       "    .dataframe thead th {\n",
       "        text-align: right;\n",
       "    }\n",
       "</style>\n",
       "<table border=\"1\" class=\"dataframe\">\n",
       "  <thead>\n",
       "    <tr style=\"text-align: right;\">\n",
       "      <th></th>\n",
       "      <th>opportunity_id</th>\n",
       "      <th>stagename</th>\n",
       "      <th>subsource</th>\n",
       "      <th>unanswered_call_counter</th>\n",
       "      <th>unserviced_age</th>\n",
       "      <th>ageing</th>\n",
       "      <th>source</th>\n",
       "      <th>Opportunity_created_date</th>\n",
       "      <th>time_taken_for_allocation</th>\n",
       "      <th>no_of_calls</th>\n",
       "      <th>...</th>\n",
       "      <th>is_session_Working_day</th>\n",
       "      <th>Session_Start_day_inweek</th>\n",
       "      <th>Weekly_sessionsdays_count</th>\n",
       "      <th>sessions_in week</th>\n",
       "      <th>Workes-reqd/min_workex</th>\n",
       "      <th>workex-reqd/workexpmax</th>\n",
       "      <th>workex- minworkexp/reqd</th>\n",
       "      <th>workex-max/reqd</th>\n",
       "      <th>workex_reqd/Age(max)</th>\n",
       "      <th>workex_reqd/Age(min)</th>\n",
       "    </tr>\n",
       "  </thead>\n",
       "  <tbody>\n",
       "    <tr>\n",
       "      <th>0</th>\n",
       "      <td>0060o00001WJbrYAAT</td>\n",
       "      <td>Cold</td>\n",
       "      <td>facebook</td>\n",
       "      <td>0</td>\n",
       "      <td>0</td>\n",
       "      <td>252</td>\n",
       "      <td>facebook</td>\n",
       "      <td>02-06-2021 01:23</td>\n",
       "      <td>0</td>\n",
       "      <td>2</td>\n",
       "      <td>...</td>\n",
       "      <td>0</td>\n",
       "      <td>Saturday</td>\n",
       "      <td>1</td>\n",
       "      <td>1</td>\n",
       "      <td>0.4</td>\n",
       "      <td>0.2</td>\n",
       "      <td>2.5</td>\n",
       "      <td>5</td>\n",
       "      <td>0.060606</td>\n",
       "      <td>0.071429</td>\n",
       "    </tr>\n",
       "    <tr>\n",
       "      <th>1</th>\n",
       "      <td>0060o00001WJcpKAAT</td>\n",
       "      <td>Cold</td>\n",
       "      <td>facebook</td>\n",
       "      <td>0</td>\n",
       "      <td>0</td>\n",
       "      <td>241</td>\n",
       "      <td>facebook</td>\n",
       "      <td>02-06-2021 05:47</td>\n",
       "      <td>0</td>\n",
       "      <td>8</td>\n",
       "      <td>...</td>\n",
       "      <td>0</td>\n",
       "      <td>Saturday</td>\n",
       "      <td>1</td>\n",
       "      <td>1</td>\n",
       "      <td>0.4</td>\n",
       "      <td>0.2</td>\n",
       "      <td>2.5</td>\n",
       "      <td>5</td>\n",
       "      <td>0.060606</td>\n",
       "      <td>0.071429</td>\n",
       "    </tr>\n",
       "    <tr>\n",
       "      <th>2</th>\n",
       "      <td>0060o00001WJhn0AAD</td>\n",
       "      <td>Cold</td>\n",
       "      <td>facebook</td>\n",
       "      <td>0</td>\n",
       "      <td>0</td>\n",
       "      <td>245</td>\n",
       "      <td>facebook</td>\n",
       "      <td>03-06-2021 07:47</td>\n",
       "      <td>0</td>\n",
       "      <td>2</td>\n",
       "      <td>...</td>\n",
       "      <td>0</td>\n",
       "      <td>Saturday</td>\n",
       "      <td>1</td>\n",
       "      <td>1</td>\n",
       "      <td>0.4</td>\n",
       "      <td>0.2</td>\n",
       "      <td>2.5</td>\n",
       "      <td>5</td>\n",
       "      <td>0.060606</td>\n",
       "      <td>0.071429</td>\n",
       "    </tr>\n",
       "    <tr>\n",
       "      <th>3</th>\n",
       "      <td>0060o00001WJlgqAAD</td>\n",
       "      <td>Cold</td>\n",
       "      <td>facebook</td>\n",
       "      <td>0</td>\n",
       "      <td>0</td>\n",
       "      <td>127</td>\n",
       "      <td>facebook</td>\n",
       "      <td>04-06-2021 05:12</td>\n",
       "      <td>0</td>\n",
       "      <td>3</td>\n",
       "      <td>...</td>\n",
       "      <td>0</td>\n",
       "      <td>Saturday</td>\n",
       "      <td>1</td>\n",
       "      <td>1</td>\n",
       "      <td>0.4</td>\n",
       "      <td>0.2</td>\n",
       "      <td>2.5</td>\n",
       "      <td>5</td>\n",
       "      <td>0.060606</td>\n",
       "      <td>0.071429</td>\n",
       "    </tr>\n",
       "  </tbody>\n",
       "</table>\n",
       "<p>4 rows × 68 columns</p>\n",
       "</div>"
      ],
      "text/plain": [
       "       opportunity_id stagename subsource  unanswered_call_counter  \\\n",
       "0  0060o00001WJbrYAAT      Cold  facebook                        0   \n",
       "1  0060o00001WJcpKAAT      Cold  facebook                        0   \n",
       "2  0060o00001WJhn0AAD      Cold  facebook                        0   \n",
       "3  0060o00001WJlgqAAD      Cold  facebook                        0   \n",
       "\n",
       "   unserviced_age  ageing    source Opportunity_created_date  \\\n",
       "0               0     252  facebook         02-06-2021 01:23   \n",
       "1               0     241  facebook         02-06-2021 05:47   \n",
       "2               0     245  facebook         03-06-2021 07:47   \n",
       "3               0     127  facebook         04-06-2021 05:12   \n",
       "\n",
       "   time_taken_for_allocation  no_of_calls  ... is_session_Working_day  \\\n",
       "0                          0            2  ...                      0   \n",
       "1                          0            8  ...                      0   \n",
       "2                          0            2  ...                      0   \n",
       "3                          0            3  ...                      0   \n",
       "\n",
       "  Session_Start_day_inweek Weekly_sessionsdays_count sessions_in week  \\\n",
       "0                 Saturday                         1                1   \n",
       "1                 Saturday                         1                1   \n",
       "2                 Saturday                         1                1   \n",
       "3                 Saturday                         1                1   \n",
       "\n",
       "  Workes-reqd/min_workex workex-reqd/workexpmax  workex- minworkexp/reqd  \\\n",
       "0                    0.4                    0.2                      2.5   \n",
       "1                    0.4                    0.2                      2.5   \n",
       "2                    0.4                    0.2                      2.5   \n",
       "3                    0.4                    0.2                      2.5   \n",
       "\n",
       "  workex-max/reqd workex_reqd/Age(max) workex_reqd/Age(min)  \n",
       "0               5             0.060606             0.071429  \n",
       "1               5             0.060606             0.071429  \n",
       "2               5             0.060606             0.071429  \n",
       "3               5             0.060606             0.071429  \n",
       "\n",
       "[4 rows x 68 columns]"
      ]
     },
     "execution_count": 18,
     "metadata": {},
     "output_type": "execute_result"
    }
   ],
   "source": [
    "conn.execute(\"SELECT * FROM taxi_data limit 4\").fetchdf()"
   ]
  },
  {
   "cell_type": "code",
   "execution_count": null,
   "metadata": {},
   "outputs": [],
   "source": []
  },
  {
   "cell_type": "markdown",
   "metadata": {},
   "source": [
    "fetchall() returns all rows as list of tuples."
   ]
  },
  {
   "cell_type": "code",
   "execution_count": 74,
   "metadata": {},
   "outputs": [
    {
     "data": {
      "text/plain": [
       "[(1, 18841261.98), (2, 60602721.27), (6, 12401.03)]"
      ]
     },
     "execution_count": 74,
     "metadata": {},
     "output_type": "execute_result"
    }
   ],
   "source": [
    "conn.execute('''SELECT VendorID, ROUND(SUM(total_amount), 2) as total \n",
    "                FROM taxi_data GROUP BY VendorID''').fetchall()"
   ]
  },
  {
   "cell_type": "markdown",
   "metadata": {},
   "source": [
    "fetchdf() returns a pandas dataframe."
   ]
  },
  {
   "cell_type": "code",
   "execution_count": 75,
   "metadata": {},
   "outputs": [
    {
     "data": {
      "text/html": [
       "<div>\n",
       "<style scoped>\n",
       "    .dataframe tbody tr th:only-of-type {\n",
       "        vertical-align: middle;\n",
       "    }\n",
       "\n",
       "    .dataframe tbody tr th {\n",
       "        vertical-align: top;\n",
       "    }\n",
       "\n",
       "    .dataframe thead th {\n",
       "        text-align: right;\n",
       "    }\n",
       "</style>\n",
       "<table border=\"1\" class=\"dataframe\">\n",
       "  <thead>\n",
       "    <tr style=\"text-align: right;\">\n",
       "      <th></th>\n",
       "      <th>VendorID</th>\n",
       "      <th>total</th>\n",
       "    </tr>\n",
       "  </thead>\n",
       "  <tbody>\n",
       "    <tr>\n",
       "      <th>0</th>\n",
       "      <td>1</td>\n",
       "      <td>18841261.98</td>\n",
       "    </tr>\n",
       "    <tr>\n",
       "      <th>1</th>\n",
       "      <td>2</td>\n",
       "      <td>60602721.27</td>\n",
       "    </tr>\n",
       "    <tr>\n",
       "      <th>2</th>\n",
       "      <td>6</td>\n",
       "      <td>12401.03</td>\n",
       "    </tr>\n",
       "  </tbody>\n",
       "</table>\n",
       "</div>"
      ],
      "text/plain": [
       "   VendorID        total\n",
       "0         1  18841261.98\n",
       "1         2  60602721.27\n",
       "2         6     12401.03"
      ]
     },
     "execution_count": 75,
     "metadata": {},
     "output_type": "execute_result"
    }
   ],
   "source": [
    "conn.execute('''SELECT VendorID, ROUND(SUM(total_amount), 2) as total \n",
    "                FROM taxi_data GROUP BY VendorID''').fetchdf()"
   ]
  },
  {
   "cell_type": "markdown",
   "metadata": {},
   "source": [
    "Extract a subset of data to use in pandas."
   ]
  },
  {
   "cell_type": "code",
   "execution_count": 76,
   "metadata": {},
   "outputs": [],
   "source": [
    "taxidf1 = conn.execute('''SELECT * FROM taxi_data WHERE VendorID = 1''').fetchdf()"
   ]
  },
  {
   "cell_type": "code",
   "execution_count": 77,
   "metadata": {},
   "outputs": [
    {
     "data": {
      "text/plain": [
       "pandas.core.frame.DataFrame"
      ]
     },
     "execution_count": 77,
     "metadata": {},
     "output_type": "execute_result"
    }
   ],
   "source": [
    "type(taxidf1)"
   ]
  },
  {
   "cell_type": "markdown",
   "metadata": {},
   "source": [
    "Use the pandas dataframe."
   ]
  },
  {
   "cell_type": "code",
   "execution_count": 78,
   "metadata": {},
   "outputs": [
    {
     "data": {
      "text/html": [
       "<div>\n",
       "<style scoped>\n",
       "    .dataframe tbody tr th:only-of-type {\n",
       "        vertical-align: middle;\n",
       "    }\n",
       "\n",
       "    .dataframe tbody tr th {\n",
       "        vertical-align: top;\n",
       "    }\n",
       "\n",
       "    .dataframe thead th {\n",
       "        text-align: right;\n",
       "    }\n",
       "</style>\n",
       "<table border=\"1\" class=\"dataframe\">\n",
       "  <thead>\n",
       "    <tr style=\"text-align: right;\">\n",
       "      <th></th>\n",
       "      <th>VendorID</th>\n",
       "      <th>trip_distance</th>\n",
       "    </tr>\n",
       "  </thead>\n",
       "  <tbody>\n",
       "    <tr>\n",
       "      <th>0</th>\n",
       "      <td>1</td>\n",
       "      <td>1.8</td>\n",
       "    </tr>\n",
       "    <tr>\n",
       "      <th>1</th>\n",
       "      <td>1</td>\n",
       "      <td>4.7</td>\n",
       "    </tr>\n",
       "    <tr>\n",
       "      <th>2</th>\n",
       "      <td>1</td>\n",
       "      <td>1.4</td>\n",
       "    </tr>\n",
       "    <tr>\n",
       "      <th>3</th>\n",
       "      <td>1</td>\n",
       "      <td>0.8</td>\n",
       "    </tr>\n",
       "    <tr>\n",
       "      <th>4</th>\n",
       "      <td>1</td>\n",
       "      <td>4.7</td>\n",
       "    </tr>\n",
       "    <tr>\n",
       "      <th>...</th>\n",
       "      <td>...</td>\n",
       "      <td>...</td>\n",
       "    </tr>\n",
       "    <tr>\n",
       "      <th>729727</th>\n",
       "      <td>1</td>\n",
       "      <td>0.7</td>\n",
       "    </tr>\n",
       "    <tr>\n",
       "      <th>729728</th>\n",
       "      <td>1</td>\n",
       "      <td>1.2</td>\n",
       "    </tr>\n",
       "    <tr>\n",
       "      <th>729729</th>\n",
       "      <td>1</td>\n",
       "      <td>3.9</td>\n",
       "    </tr>\n",
       "    <tr>\n",
       "      <th>729730</th>\n",
       "      <td>1</td>\n",
       "      <td>4.0</td>\n",
       "    </tr>\n",
       "    <tr>\n",
       "      <th>729731</th>\n",
       "      <td>1</td>\n",
       "      <td>8.1</td>\n",
       "    </tr>\n",
       "  </tbody>\n",
       "</table>\n",
       "<p>729732 rows × 2 columns</p>\n",
       "</div>"
      ],
      "text/plain": [
       "        VendorID  trip_distance\n",
       "0              1            1.8\n",
       "1              1            4.7\n",
       "2              1            1.4\n",
       "3              1            0.8\n",
       "4              1            4.7\n",
       "...          ...            ...\n",
       "729727         1            0.7\n",
       "729728         1            1.2\n",
       "729729         1            3.9\n",
       "729730         1            4.0\n",
       "729731         1            8.1\n",
       "\n",
       "[729732 rows x 2 columns]"
      ]
     },
     "execution_count": 78,
     "metadata": {},
     "output_type": "execute_result"
    }
   ],
   "source": [
    "taxidf1[['VendorID','trip_distance']]"
   ]
  },
  {
   "cell_type": "markdown",
   "metadata": {},
   "source": [
    "#### DuckDB Relation Object"
   ]
  },
  {
   "cell_type": "markdown",
   "metadata": {},
   "source": [
    "We can create a Relation Object in DuckDB which is a bit like a DuckDB dataframe but is not limited o your computer's memory."
   ]
  },
  {
   "cell_type": "markdown",
   "metadata": {},
   "source": [
    "Below we are using the default dattabase connection which is in memory."
   ]
  },
  {
   "cell_type": "code",
   "execution_count": 79,
   "metadata": {},
   "outputs": [],
   "source": [
    "taxi_rel = duckdb.read_parquet(\"yellow_tripdata_2024-01.parquet\")"
   ]
  },
  {
   "cell_type": "code",
   "execution_count": 80,
   "metadata": {},
   "outputs": [
    {
     "data": {
      "text/plain": [
       "duckdb.duckdb.DuckDBPyRelation"
      ]
     },
     "execution_count": 80,
     "metadata": {},
     "output_type": "execute_result"
    }
   ],
   "source": [
    "type(taxi_rel)"
   ]
  },
  {
   "cell_type": "markdown",
   "metadata": {},
   "source": [
    "### Useful Reference to functions...\n",
    "https://duckdb.org/docs/api/python/reference/"
   ]
  },
  {
   "cell_type": "code",
   "execution_count": 81,
   "metadata": {},
   "outputs": [
    {
     "name": "stdout",
     "output_type": "stream",
     "text": [
      "┌──────────┬──────────────────────┬──────────────────────┬───┬──────────────┬──────────────────────┬─────────────┐\n",
      "│ VendorID │ tpep_pickup_datetime │ tpep_dropoff_datet…  │ … │ total_amount │ congestion_surcharge │ Airport_fee │\n",
      "│  int32   │      timestamp       │      timestamp       │   │    double    │        double        │   double    │\n",
      "├──────────┼──────────────────────┼──────────────────────┼───┼──────────────┼──────────────────────┼─────────────┤\n",
      "│        2 │ 2024-01-01 00:57:55  │ 2024-01-01 01:17:43  │ … │         22.7 │                  2.5 │         0.0 │\n",
      "│        · │          ·           │          ·           │ · │           ·  │                   ·  │          ·  │\n",
      "│        · │          ·           │          ·           │ · │           ·  │                   ·  │          ·  │\n",
      "│        · │          ·           │          ·           │ · │           ·  │                   ·  │          ·  │\n",
      "│        2 │ 2024-01-01 01:22:05  │ 2024-01-01 01:33:29  │ … │         17.8 │                  2.5 │         0.0 │\n",
      "├──────────┴──────────────────────┴──────────────────────┴───┴──────────────┴──────────────────────┴─────────────┤\n",
      "│ ? rows (>9999 rows, 2 shown)                                                              19 columns (6 shown) │\n",
      "└────────────────────────────────────────────────────────────────────────────────────────────────────────────────┘\n",
      "\n"
     ]
    }
   ],
   "source": [
    "taxi_rel.show(max_rows = 2)"
   ]
  },
  {
   "cell_type": "code",
   "execution_count": 82,
   "metadata": {},
   "outputs": [
    {
     "name": "stdout",
     "output_type": "stream",
     "text": [
      "┌──────────┬──────────────────────┬──────────────────────┬───┬──────────────┬──────────────────────┬─────────────┐\n",
      "│ VendorID │ tpep_pickup_datetime │ tpep_dropoff_datet…  │ … │ total_amount │ congestion_surcharge │ Airport_fee │\n",
      "│  int32   │      timestamp       │      timestamp       │   │    double    │        double        │   double    │\n",
      "├──────────┼──────────────────────┼──────────────────────┼───┼──────────────┼──────────────────────┼─────────────┤\n",
      "│        2 │ 2024-01-01 00:57:55  │ 2024-01-01 01:17:43  │ … │         22.7 │                  2.5 │         0.0 │\n",
      "│        1 │ 2024-01-01 00:03:00  │ 2024-01-01 00:09:36  │ … │        18.75 │                  2.5 │         0.0 │\n",
      "│        1 │ 2024-01-01 00:17:06  │ 2024-01-01 00:35:01  │ … │         31.3 │                  2.5 │         0.0 │\n",
      "│        · │          ·           │          ·           │ · │           ·  │                   ·  │          ·  │\n",
      "│        · │          ·           │          ·           │ · │           ·  │                   ·  │          ·  │\n",
      "│        · │          ·           │          ·           │ · │           ·  │                   ·  │          ·  │\n",
      "│        2 │ 2024-01-01 01:43:16  │ 2024-01-01 01:54:09  │ … │        19.35 │                  2.5 │         0.0 │\n",
      "│        2 │ 2024-01-01 01:22:05  │ 2024-01-01 01:33:29  │ … │         17.8 │                  2.5 │         0.0 │\n",
      "├──────────┴──────────────────────┴──────────────────────┴───┴──────────────┴──────────────────────┴─────────────┤\n",
      "│ ? rows (>9999 rows, 5 shown)                                                              19 columns (6 shown) │\n",
      "└────────────────────────────────────────────────────────────────────────────────────────────────────────────────┘\n",
      "\n"
     ]
    }
   ],
   "source": [
    "duckdb.sql(\"SELECT * FROM taxi_rel\").show(max_rows = 5)"
   ]
  },
  {
   "cell_type": "markdown",
   "metadata": {},
   "source": [
    "Get some summary stats on our relation."
   ]
  },
  {
   "cell_type": "code",
   "execution_count": 83,
   "metadata": {},
   "outputs": [
    {
     "data": {
      "text/plain": [
       "┌─────────┬─────────────────────┬──────────────────────┬───┬──────────────────────┬────────────────────┐\n",
       "│  aggr   │      VendorID       │ tpep_pickup_datetime │ … │ congestion_surcharge │    Airport_fee     │\n",
       "│ varchar │       double        │       varchar        │   │        double        │       double       │\n",
       "├─────────┼─────────────────────┼──────────────────────┼───┼──────────────────────┼────────────────────┤\n",
       "│ count   │           2964624.0 │ 2964624              │ … │            2824462.0 │          2824462.0 │\n",
       "│ mean    │  1.7542042431013174 │ NULL                 │ … │   2.2561220508542865 │  0.141161130863152 │\n",
       "│ stddev  │ 0.43259020170360285 │ NULL                 │ … │   0.8232746699398348 │ 0.4876238872392802 │\n",
       "│ min     │                 1.0 │ 2002-12-31 22:59:39  │ … │                 -2.5 │              -1.75 │\n",
       "│ max     │                 6.0 │ 2024-02-01 00:01:15  │ … │                  2.5 │               1.75 │\n",
       "│ median  │                 2.0 │ NULL                 │ … │                  2.5 │                0.0 │\n",
       "├─────────┴─────────────────────┴──────────────────────┴───┴──────────────────────┴────────────────────┤\n",
       "│ 6 rows                                                                          20 columns (5 shown) │\n",
       "└──────────────────────────────────────────────────────────────────────────────────────────────────────┘"
      ]
     },
     "execution_count": 83,
     "metadata": {},
     "output_type": "execute_result"
    }
   ],
   "source": [
    "taxi_rel.describe()"
   ]
  },
  {
   "cell_type": "code",
   "execution_count": 84,
   "metadata": {},
   "outputs": [],
   "source": [
    "conn.close()"
   ]
  }
 ],
 "metadata": {
  "kernelspec": {
   "display_name": "market-lead-scoring-propensity-modeling2",
   "language": "python",
   "name": "python3"
  },
  "language_info": {
   "codemirror_mode": {
    "name": "ipython",
    "version": 3
   },
   "file_extension": ".py",
   "mimetype": "text/x-python",
   "name": "python",
   "nbconvert_exporter": "python",
   "pygments_lexer": "ipython3",
   "version": "3.10.18"
  }
 },
 "nbformat": 4,
 "nbformat_minor": 2
}
